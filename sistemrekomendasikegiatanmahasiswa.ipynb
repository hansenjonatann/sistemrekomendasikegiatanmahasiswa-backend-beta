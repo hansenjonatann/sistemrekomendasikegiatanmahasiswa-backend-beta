{
 "cells": [
  {
   "cell_type": "code",
   "execution_count": 82,
   "metadata": {},
   "outputs": [],
   "source": [
    "import pandas as pd \n",
    "import numpy as np \n"
   ]
  },
  {
   "cell_type": "markdown",
   "metadata": {},
   "source": [
    "# Data Visualization"
   ]
  },
  {
   "cell_type": "code",
   "execution_count": 83,
   "metadata": {},
   "outputs": [
    {
     "name": "stdout",
     "output_type": "stream",
     "text": [
      "============ Data Frame Kegiatan Mahasiswa ==============\n",
      "   npm_mahasiswa  bank_id                                      nama_kegiatan  \\\n",
      "0        2031038    10945    Webinar Series #3 : \"Profesi Hukum Itu, Asyik!\"   \n",
      "1        1931095     2154  Aesthetic Introduction to Literature Feast (Ae...   \n",
      "2        1931095     5036      Mentoring and Tutoring \"Pyhton 101 - Part II\"   \n",
      "3        2031140     3533  Ibadah Mahasiswa Baru (IMABA) Mahasiswa Kriste...   \n",
      "4        2031140     1972  Virtual Gathering Crown Of Glory 2020: Be Care...   \n",
      "\n",
      "  tingkat_kegiatan tanggal_kegiatan  \n",
      "0            lokal        11/7/2020  \n",
      "1            lokal       11/18/2019  \n",
      "2            lokal        9/21/2019  \n",
      "3            lokal         9/5/2020  \n",
      "4            lokal       10/17/2020  \n",
      "<class 'pandas.core.frame.DataFrame'>\n",
      "RangeIndex: 12798 entries, 0 to 12797\n",
      "Data columns (total 5 columns):\n",
      " #   Column            Non-Null Count  Dtype \n",
      "---  ------            --------------  ----- \n",
      " 0   npm_mahasiswa     12798 non-null  int64 \n",
      " 1   bank_id           12798 non-null  int64 \n",
      " 2   nama_kegiatan     12798 non-null  object\n",
      " 3   tingkat_kegiatan  12798 non-null  object\n",
      " 4   tanggal_kegiatan  12798 non-null  object\n",
      "dtypes: int64(2), object(3)\n",
      "memory usage: 500.1+ KB\n",
      "None\n",
      "============ Data Frame KRS Mahasiswa ==============\n",
      "   npm_mahasiswa jenis_semester  tahun_semester kode_kelas kode_matkul  \\\n",
      "0        1931001         ganjil            2019      1BUMA     SI00194   \n",
      "1        1931001         ganjil            2019      1SIMA     SI00153   \n",
      "2        1931001         ganjil            2019      1VUMD     SI00192   \n",
      "3        1931001         ganjil            2019      1SIMA     SIL0085   \n",
      "4        1931001         ganjil            2019      1SIMA     SI00151   \n",
      "\n",
      "                          nama_matkul  sks_matakuliah  total_hadir  \\\n",
      "0                               Agama               2            0   \n",
      "1  Arsitektur dan Organisasi Komputer               3            0   \n",
      "2                    Bahasa Inggris I               2            0   \n",
      "3              Lab. Teknik Pemograman               1            0   \n",
      "4          Pengantar Sistem Informasi               3            0   \n",
      "\n",
      "   total_pertemuan  total_terlaksana  total_tidak_hadir kode_nilai  \\\n",
      "0                0                 0                  0          A   \n",
      "1                0                 0                  0          A   \n",
      "2                0                 0                  0          A   \n",
      "3                0                 0                  0          A   \n",
      "4                0                 0                  0          B   \n",
      "\n",
      "  kategori_matakuliah  \n",
      "0               Agama  \n",
      "1   Computer Hardware  \n",
      "2              Bahasa  \n",
      "3   Basic Programming  \n",
      "4           Manajemen  \n",
      "<class 'pandas.core.frame.DataFrame'>\n",
      "RangeIndex: 31991 entries, 0 to 31990\n",
      "Data columns (total 13 columns):\n",
      " #   Column               Non-Null Count  Dtype \n",
      "---  ------               --------------  ----- \n",
      " 0   npm_mahasiswa        31991 non-null  int64 \n",
      " 1   jenis_semester       31991 non-null  object\n",
      " 2   tahun_semester       31991 non-null  int64 \n",
      " 3   kode_kelas           31991 non-null  object\n",
      " 4   kode_matkul          31991 non-null  object\n",
      " 5   nama_matkul          31991 non-null  object\n",
      " 6   sks_matakuliah       31991 non-null  int64 \n",
      " 7   total_hadir          31991 non-null  int64 \n",
      " 8   total_pertemuan      31991 non-null  int64 \n",
      " 9   total_terlaksana     31991 non-null  int64 \n",
      " 10  total_tidak_hadir    31991 non-null  int64 \n",
      " 11  kode_nilai           29052 non-null  object\n",
      " 12  kategori_matakuliah  31991 non-null  object\n",
      "dtypes: int64(7), object(6)\n",
      "memory usage: 3.2+ MB\n",
      "None\n",
      "============ Data Frame  Mahasiswa ==============\n",
      "   npm_mahasiswa nama_mahasiswa   prodi_mahasiswa  angkatan_mahasiswa  \\\n",
      "0        1931173      Celine Te  Sistem Informasi                2019   \n",
      "1        1931001   Rido Renando  Sistem Informasi                2019   \n",
      "2        1931009  Richie Marlon  Sistem Informasi                2019   \n",
      "3        1931083    Elvin Whang  Sistem Informasi                2019   \n",
      "4        2031001  Robin Sunjaya  Sistem Informasi                2020   \n",
      "\n",
      "   ipk_mahasiswa status_mahasiswa  pembimbing_tugas_akhir  \n",
      "0           3.87            Lulus               5120028.0  \n",
      "1           3.72            Lulus               1170002.0  \n",
      "2           3.90            Lulus               5120028.0  \n",
      "3           3.68            Lulus               6200076.0  \n",
      "4           3.88            Aktif               9180074.0  \n",
      "<class 'pandas.core.frame.DataFrame'>\n",
      "RangeIndex: 673 entries, 0 to 672\n",
      "Data columns (total 7 columns):\n",
      " #   Column                  Non-Null Count  Dtype  \n",
      "---  ------                  --------------  -----  \n",
      " 0   npm_mahasiswa           673 non-null    int64  \n",
      " 1   nama_mahasiswa          673 non-null    object \n",
      " 2   prodi_mahasiswa         673 non-null    object \n",
      " 3   angkatan_mahasiswa      673 non-null    int64  \n",
      " 4   ipk_mahasiswa           670 non-null    float64\n",
      " 5   status_mahasiswa        673 non-null    object \n",
      " 6   pembimbing_tugas_akhir  636 non-null    float64\n",
      "dtypes: float64(2), int64(2), object(3)\n",
      "memory usage: 36.9+ KB\n",
      "None\n"
     ]
    }
   ],
   "source": [
    "# Visualisasi Data Frame \n",
    "\n",
    "data_kegiatan_mahasiswa = pd.read_csv('data/kegiatan_mahasiswa.csv')\n",
    "data_krs_mahasiswa = pd.read_csv('data/krs_mahasiswa.csv')\n",
    "data_mahasiswa = pd.read_csv('data/mahasiswa.csv')\n",
    "\n",
    "print('============ Data Frame Kegiatan Mahasiswa ==============')\n",
    "\n",
    "print(data_kegiatan_mahasiswa.head())\n",
    "print(data_kegiatan_mahasiswa.info())\n",
    "\n",
    "print('============ Data Frame KRS Mahasiswa ==============')\n",
    "\n",
    "print(data_krs_mahasiswa.head())\n",
    "print(data_krs_mahasiswa.info())\n",
    "\n",
    "\n",
    "print('============ Data Frame  Mahasiswa ==============')\n",
    "\n",
    "print(data_mahasiswa.head())\n",
    "print(data_mahasiswa.info())\n",
    "\n",
    "\n",
    "\n"
   ]
  },
  {
   "cell_type": "markdown",
   "metadata": {},
   "source": [
    "# Preprocessing"
   ]
  },
  {
   "cell_type": "markdown",
   "metadata": {},
   "source": [
    "## Data Cleaning"
   ]
  },
  {
   "cell_type": "markdown",
   "metadata": {},
   "source": [
    "###  Null Value"
   ]
  },
  {
   "cell_type": "code",
   "execution_count": 84,
   "metadata": {},
   "outputs": [
    {
     "name": "stdout",
     "output_type": "stream",
     "text": [
      "========== Data Frame sebelum dibershikan===========\n",
      "========== Data Frame Kegiatan Mahasiswa ========\n",
      "npm_mahasiswa       0\n",
      "bank_id             0\n",
      "nama_kegiatan       0\n",
      "tingkat_kegiatan    0\n",
      "tanggal_kegiatan    0\n",
      "dtype: int64\n",
      "========== Data Frame KRS Mahasiswa ========\n",
      "npm_mahasiswa             0\n",
      "jenis_semester            0\n",
      "tahun_semester            0\n",
      "kode_kelas                0\n",
      "kode_matkul               0\n",
      "nama_matkul               0\n",
      "sks_matakuliah            0\n",
      "total_hadir               0\n",
      "total_pertemuan           0\n",
      "total_terlaksana          0\n",
      "total_tidak_hadir         0\n",
      "kode_nilai             2939\n",
      "kategori_matakuliah       0\n",
      "dtype: int64\n",
      "========== Data Frame  Mahasiswa ========\n",
      "npm_mahasiswa              0\n",
      "nama_mahasiswa             0\n",
      "prodi_mahasiswa            0\n",
      "angkatan_mahasiswa         0\n",
      "ipk_mahasiswa              3\n",
      "status_mahasiswa           0\n",
      "pembimbing_tugas_akhir    37\n",
      "dtype: int64\n",
      "================ Data Frame setelah dibersihkan =========\n",
      "=============== Data Frame KRS Mahasiswa =================\n",
      "npm_mahasiswa          0\n",
      "jenis_semester         0\n",
      "tahun_semester         0\n",
      "kode_kelas             0\n",
      "kode_matkul            0\n",
      "nama_matkul            0\n",
      "sks_matakuliah         0\n",
      "total_hadir            0\n",
      "total_pertemuan        0\n",
      "total_terlaksana       0\n",
      "total_tidak_hadir      0\n",
      "kode_nilai             0\n",
      "kategori_matakuliah    0\n",
      "dtype: int64\n",
      "=========== Data Frame Mahasiswa =========\n",
      "npm_mahasiswa             0\n",
      "nama_mahasiswa            0\n",
      "prodi_mahasiswa           0\n",
      "angkatan_mahasiswa        0\n",
      "ipk_mahasiswa             0\n",
      "status_mahasiswa          0\n",
      "pembimbing_tugas_akhir    0\n",
      "dtype: int64\n"
     ]
    }
   ],
   "source": [
    "# Memeriksa nilai yang kosong \n",
    "\n",
    "\n",
    "print(\"========== Data Frame sebelum dibershikan===========\")\n",
    "print(\"========== Data Frame Kegiatan Mahasiswa ========\")\n",
    "print(data_kegiatan_mahasiswa.isnull().sum())\n",
    "print(\"========== Data Frame KRS Mahasiswa ========\")\n",
    "print(data_krs_mahasiswa.isnull().sum())\n",
    "print(\"========== Data Frame  Mahasiswa ========\")\n",
    "print(data_mahasiswa.isnull().sum())\n",
    "\n",
    "# membersihkan nilai yang kosong\n",
    "\n",
    "print(\"================ Data Frame setelah dibersihkan =========\")\n",
    "\n",
    "print('=============== Data Frame KRS Mahasiswa =================')\n",
    "data_krs_mahasiswa_after_cleaning = data_krs_mahasiswa.dropna(subset=[\"kode_nilai\"])\n",
    "print(data_krs_mahasiswa_after_cleaning.isnull().sum())\n",
    "print('=========== Data Frame Mahasiswa =========')\n",
    "data_mahasiswa_after_cleaning = data_mahasiswa.dropna(subset=[\"ipk_mahasiswa\" , \"pembimbing_tugas_akhir\"])\n",
    "print(data_mahasiswa_after_cleaning.isnull().sum())\n",
    "\n",
    "\n",
    "\n"
   ]
  },
  {
   "cell_type": "markdown",
   "metadata": {},
   "source": [
    "### Duplicate Value"
   ]
  },
  {
   "cell_type": "code",
   "execution_count": 85,
   "metadata": {},
   "outputs": [
    {
     "name": "stdout",
     "output_type": "stream",
     "text": [
      "========= Jumlah Duplikat pada Data Frame =========\n",
      "============= Data Frame Kegiatan Mahasiswa ============\n",
      "68\n",
      "================== Data Frame KRS Mahasiswa ==============\n",
      "0\n",
      "================== Data Frame  Mahasiswa ==============\n",
      "0\n",
      "================= Data Frame setelah menghapus duplikat ============\n",
      "0\n"
     ]
    }
   ],
   "source": [
    "#  memeriksa dan menghitung jumlah duplicate \n",
    "\n",
    "print(\"========= Jumlah Duplikat pada Data Frame =========\")\n",
    "print(\"============= Data Frame Kegiatan Mahasiswa ============\")\n",
    "print(data_kegiatan_mahasiswa.duplicated().sum())\n",
    "print(\"================== Data Frame KRS Mahasiswa ==============\")\n",
    "print(data_krs_mahasiswa.duplicated().sum())\n",
    "print(\"================== Data Frame  Mahasiswa ==============\")\n",
    "print(data_mahasiswa.duplicated().sum())\n",
    "\n",
    "#  Membersihkand data yang duplikat \n",
    "\n",
    "print('================= Data Frame setelah menghapus duplikat ============')\n",
    "\n",
    "data_kegiatan_mahasiswa_after_remove_duplicated = data_kegiatan_mahasiswa.drop_duplicates()\n",
    "print(data_kegiatan_mahasiswa_after_remove_duplicated.duplicated().sum())"
   ]
  },
  {
   "cell_type": "markdown",
   "metadata": {},
   "source": [
    "### Data Type Conversion"
   ]
  },
  {
   "cell_type": "markdown",
   "metadata": {},
   "source": [
    "#### Mengubah Tipe Data dari Data Frame Kegiatan Mahasiswa"
   ]
  },
  {
   "cell_type": "code",
   "execution_count": 86,
   "metadata": {},
   "outputs": [
    {
     "name": "stdout",
     "output_type": "stream",
     "text": [
      "=============== Data Frame sebelum diubah tipe data ==============\n",
      "<class 'pandas.core.frame.DataFrame'>\n",
      "RangeIndex: 12798 entries, 0 to 12797\n",
      "Data columns (total 5 columns):\n",
      " #   Column            Non-Null Count  Dtype \n",
      "---  ------            --------------  ----- \n",
      " 0   npm_mahasiswa     12798 non-null  int64 \n",
      " 1   bank_id           12798 non-null  int64 \n",
      " 2   nama_kegiatan     12798 non-null  object\n",
      " 3   tingkat_kegiatan  12798 non-null  object\n",
      " 4   tanggal_kegiatan  12798 non-null  object\n",
      "dtypes: int64(2), object(3)\n",
      "memory usage: 500.1+ KB\n",
      "None\n",
      "================ Data Frame setelah diubah tipe data =========\n",
      "<class 'pandas.core.frame.DataFrame'>\n",
      "RangeIndex: 12798 entries, 0 to 12797\n",
      "Data columns (total 5 columns):\n",
      " #   Column            Non-Null Count  Dtype \n",
      "---  ------            --------------  ----- \n",
      " 0   npm_mahasiswa     12798 non-null  object\n",
      " 1   bank_id           12798 non-null  object\n",
      " 2   nama_kegiatan     12798 non-null  object\n",
      " 3   tingkat_kegiatan  12798 non-null  object\n",
      " 4   tanggal_kegiatan  12798 non-null  object\n",
      "dtypes: object(5)\n",
      "memory usage: 500.1+ KB\n",
      "None\n"
     ]
    }
   ],
   "source": [
    "print(\"=============== Data Frame sebelum diubah tipe data ==============\")\n",
    "print(data_kegiatan_mahasiswa.info())\n",
    "data_kegiatan_mahasiswa = data_kegiatan_mahasiswa.astype({\n",
    "    \"npm_mahasiswa\" : \"str\",\n",
    "    \"bank_id\" : \"str\"\n",
    "})\n",
    "\n",
    "\n",
    "print(\"================ Data Frame setelah diubah tipe data =========\")\n",
    "print(data_kegiatan_mahasiswa.info())"
   ]
  },
  {
   "cell_type": "markdown",
   "metadata": {},
   "source": [
    "#### Mengubah TIpe Data dan Label Encoding dari Data Frame KRS Mahasiswa"
   ]
  },
  {
   "cell_type": "markdown",
   "metadata": {},
   "source": [
    "##### Label Encoding"
   ]
  },
  {
   "cell_type": "code",
   "execution_count": 87,
   "metadata": {},
   "outputs": [
    {
     "data": {
      "text/plain": [
       "0        4\n",
       "1        4\n",
       "2        4\n",
       "3        4\n",
       "4        3\n",
       "        ..\n",
       "31986    3\n",
       "31987    4\n",
       "31988    3\n",
       "31989    4\n",
       "31990    4\n",
       "Name: kode_nilai, Length: 31991, dtype: object"
      ]
     },
     "execution_count": 87,
     "metadata": {},
     "output_type": "execute_result"
    }
   ],
   "source": [
    "data_krs_mahasiswa['kode_nilai'] = data_krs_mahasiswa['kode_nilai'].replace('A' , 4)\n",
    "data_krs_mahasiswa['kode_nilai'] = data_krs_mahasiswa['kode_nilai'].replace('B' , 3)\n",
    "data_krs_mahasiswa['kode_nilai'] = data_krs_mahasiswa['kode_nilai'].replace('C' , 2)\n",
    "data_krs_mahasiswa['kode_nilai'] = data_krs_mahasiswa['kode_nilai'].replace('D' , 1)\n",
    "data_krs_mahasiswa['kode_nilai'] = data_krs_mahasiswa['kode_nilai'].replace('E' , 0)\n",
    "data_krs_mahasiswa['kode_nilai'].fillna(0)\n",
    "\n"
   ]
  },
  {
   "cell_type": "markdown",
   "metadata": {},
   "source": [
    "##### Mengubah Tipe Data"
   ]
  },
  {
   "cell_type": "code",
   "execution_count": 88,
   "metadata": {},
   "outputs": [
    {
     "name": "stdout",
     "output_type": "stream",
     "text": [
      "=============== Data Frame sebelum diubah tipe data ==============\n",
      "<class 'pandas.core.frame.DataFrame'>\n",
      "RangeIndex: 31991 entries, 0 to 31990\n",
      "Data columns (total 13 columns):\n",
      " #   Column               Non-Null Count  Dtype \n",
      "---  ------               --------------  ----- \n",
      " 0   npm_mahasiswa        31991 non-null  int64 \n",
      " 1   jenis_semester       31991 non-null  object\n",
      " 2   tahun_semester       31991 non-null  int64 \n",
      " 3   kode_kelas           31991 non-null  object\n",
      " 4   kode_matkul          31991 non-null  object\n",
      " 5   nama_matkul          31991 non-null  object\n",
      " 6   sks_matakuliah       31991 non-null  int64 \n",
      " 7   total_hadir          31991 non-null  int64 \n",
      " 8   total_pertemuan      31991 non-null  int64 \n",
      " 9   total_terlaksana     31991 non-null  int64 \n",
      " 10  total_tidak_hadir    31991 non-null  int64 \n",
      " 11  kode_nilai           29052 non-null  object\n",
      " 12  kategori_matakuliah  31991 non-null  object\n",
      "dtypes: int64(7), object(6)\n",
      "memory usage: 3.2+ MB\n",
      "None\n",
      "================ Data Frame setelah diubah tipe data =========\n",
      "<class 'pandas.core.frame.DataFrame'>\n",
      "RangeIndex: 31991 entries, 0 to 31990\n",
      "Data columns (total 13 columns):\n",
      " #   Column               Non-Null Count  Dtype \n",
      "---  ------               --------------  ----- \n",
      " 0   npm_mahasiswa        31991 non-null  object\n",
      " 1   jenis_semester       31991 non-null  object\n",
      " 2   tahun_semester       31991 non-null  object\n",
      " 3   kode_kelas           31991 non-null  object\n",
      " 4   kode_matkul          31991 non-null  object\n",
      " 5   nama_matkul          31991 non-null  object\n",
      " 6   sks_matakuliah       31991 non-null  int64 \n",
      " 7   total_hadir          31991 non-null  int64 \n",
      " 8   total_pertemuan      31991 non-null  int64 \n",
      " 9   total_terlaksana     31991 non-null  int64 \n",
      " 10  total_tidak_hadir    31991 non-null  int64 \n",
      " 11  kode_nilai           29052 non-null  object\n",
      " 12  kategori_matakuliah  31991 non-null  object\n",
      "dtypes: int64(5), object(8)\n",
      "memory usage: 3.2+ MB\n",
      "None\n"
     ]
    }
   ],
   "source": [
    "print(\"=============== Data Frame sebelum diubah tipe data ==============\")\n",
    "print(data_krs_mahasiswa.info())\n",
    "data_krs_mahasiswa = data_krs_mahasiswa.astype({\n",
    "    'npm_mahasiswa': 'str',\n",
    "    'npm_mahasiswa': 'str',\n",
    "    'tahun_semester' : 'str',\n",
    "})\n",
    "\n",
    "\n",
    "print(\"================ Data Frame setelah diubah tipe data =========\")\n",
    "print(data_krs_mahasiswa.info())"
   ]
  },
  {
   "cell_type": "markdown",
   "metadata": {},
   "source": [
    "#### Mengubah Tipe Data dari Data Frame  Mahasiswa"
   ]
  },
  {
   "cell_type": "code",
   "execution_count": 89,
   "metadata": {},
   "outputs": [
    {
     "name": "stdout",
     "output_type": "stream",
     "text": [
      "=============== Data Frame sebelum diubah tipe data ==============\n",
      "<class 'pandas.core.frame.DataFrame'>\n",
      "RangeIndex: 673 entries, 0 to 672\n",
      "Data columns (total 7 columns):\n",
      " #   Column                  Non-Null Count  Dtype  \n",
      "---  ------                  --------------  -----  \n",
      " 0   npm_mahasiswa           673 non-null    int64  \n",
      " 1   nama_mahasiswa          673 non-null    object \n",
      " 2   prodi_mahasiswa         673 non-null    object \n",
      " 3   angkatan_mahasiswa      673 non-null    int64  \n",
      " 4   ipk_mahasiswa           670 non-null    float64\n",
      " 5   status_mahasiswa        673 non-null    object \n",
      " 6   pembimbing_tugas_akhir  636 non-null    float64\n",
      "dtypes: float64(2), int64(2), object(3)\n",
      "memory usage: 36.9+ KB\n",
      "None\n",
      "================ Data Frame setelah diubah tipe data =========\n",
      "<class 'pandas.core.frame.DataFrame'>\n",
      "RangeIndex: 673 entries, 0 to 672\n",
      "Data columns (total 7 columns):\n",
      " #   Column                  Non-Null Count  Dtype  \n",
      "---  ------                  --------------  -----  \n",
      " 0   npm_mahasiswa           673 non-null    object \n",
      " 1   nama_mahasiswa          673 non-null    object \n",
      " 2   prodi_mahasiswa         673 non-null    object \n",
      " 3   angkatan_mahasiswa      673 non-null    object \n",
      " 4   ipk_mahasiswa           670 non-null    float64\n",
      " 5   status_mahasiswa        673 non-null    object \n",
      " 6   pembimbing_tugas_akhir  673 non-null    object \n",
      "dtypes: float64(1), object(6)\n",
      "memory usage: 36.9+ KB\n",
      "None\n"
     ]
    }
   ],
   "source": [
    "print(\"=============== Data Frame sebelum diubah tipe data ==============\")\n",
    "print(data_mahasiswa.info())\n",
    "data_mahasiswa = data_mahasiswa.astype({\n",
    "    \"npm_mahasiswa\" : \"str\",\n",
    "    \"angkatan_mahasiswa\" : \"str\",\n",
    "    \"pembimbing_tugas_akhir\": \"str\"\n",
    "})\n",
    "\n",
    "\n",
    "print(\"================ Data Frame setelah diubah tipe data =========\")\n",
    "print(data_mahasiswa.info())"
   ]
  },
  {
   "cell_type": "code",
   "execution_count": null,
   "metadata": {},
   "outputs": [],
   "source": []
  },
  {
   "cell_type": "code",
   "execution_count": null,
   "metadata": {},
   "outputs": [],
   "source": []
  }
 ],
 "metadata": {
  "kernelspec": {
   "display_name": "Python 3",
   "language": "python",
   "name": "python3"
  },
  "language_info": {
   "codemirror_mode": {
    "name": "ipython",
    "version": 3
   },
   "file_extension": ".py",
   "mimetype": "text/x-python",
   "name": "python",
   "nbconvert_exporter": "python",
   "pygments_lexer": "ipython3",
   "version": "3.12.7"
  }
 },
 "nbformat": 4,
 "nbformat_minor": 2
}
